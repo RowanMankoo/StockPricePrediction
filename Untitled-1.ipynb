{
 "cells": [
  {
   "cell_type": "code",
   "execution_count": 1,
   "metadata": {},
   "outputs": [],
   "source": [
    "import time\n",
    "import datetime\n",
    "import pandas as pd\n",
    "import xgboost as xgboost\n",
    "from xgboost import XGBRegressor\n",
    "import numpy as np\n",
    "import matplotlib.pyplot as plt\n",
    "from sklearn.model_selection import GridSearchCV, TimeSeriesSplit\n",
    "from sklearn.metrics import mean_squared_error\n",
    "import math\n",
    "\n"
   ]
  },
  {
   "cell_type": "markdown",
   "metadata": {},
   "source": [
    "do eda for feature engineering"
   ]
  },
  {
   "cell_type": "code",
   "execution_count": 61,
   "metadata": {},
   "outputs": [
    {
     "name": "stdout",
     "output_type": "stream",
     "text": [
      "https://query1.finance.yahoo.com/v7/finance/download/MSFT?period1=1560380400&period2=1650138021&interval=1d&events=history&includeAdjustedClose=true\n"
     ]
    }
   ],
   "source": [
    "\n",
    "company = 'MSFT'\n",
    "start_date = int(time.mktime(datetime.datetime(2019,6,13).timetuple())) # automate this to a 3 month period \n",
    "end_date = int(time.time())\n",
    "interval = '1d' #1d 1wk 1m\n",
    "query_string = f'https://query1.finance.yahoo.com/v7/finance/download/{company}?period1={start_date}&period2={end_date}&interval={interval}&events=history&includeAdjustedClose=true'\n",
    "print(query_string)\n",
    "df = pd.read_csv(query_string)"
   ]
  },
  {
   "cell_type": "markdown",
   "metadata": {},
   "source": [
    "# Old method"
   ]
  },
  {
   "cell_type": "code",
   "execution_count": 90,
   "metadata": {},
   "outputs": [],
   "source": [
    "def data_cleaning_pipeline(df, steps, train_test_split=0.8):\n",
    "    \n",
    "    # Create columns of previous days closing price\n",
    "    for i in range(1,31):\n",
    "        df[str(i)]=np.nan\n",
    "    # Fill in columns\n",
    "    for i,_ in df.iterrows():\n",
    "        if i<30:\n",
    "            continue\n",
    "        else:\n",
    "            for j in range(1,31):\n",
    "                df.loc[i,str(j)] = df.loc[i-j,'Close']\n",
    "    df = df.iloc[30:,:].drop(columns='Date') # lose first 30 days like this but oh well\n",
    "\n",
    "    # Add 30DayStockPriceSum\n",
    "    df['30DayStockPriceSum'] = df.iloc[:,6:].sum(axis=1)\n",
    "\n",
    "    # Split dataset\n",
    "    X = np.array(df[:-steps]) \n",
    "    Y_closing_prices = np.array(df['Close'].shift(periods=-steps)[:-steps])\n",
    "    Y = []\n",
    "    \n",
    "    for start,finish in zip(X[:,3],Y_closing_prices):\n",
    "        if finish>start:\n",
    "            Y.append(1)\n",
    "        else:\n",
    "            Y.append(0)\n",
    "\n",
    "    return X, Y, Y_closing_prices\n",
    "class Model_Dev:\n",
    "    def __init__(self, X, Y, Y_closing_prices,train_test_split=0.8):\n",
    "        self.prediction_window = 5 # fix this!\n",
    "        self.X = X\n",
    "        self.Y = Y\n",
    "        self.Y_closing_prices = Y_closing_prices\n",
    "        self.n = int(self.X.shape[0]*train_test_split)\n",
    "\n",
    "        self.stocks = 5\n",
    "        self.money = 0\n",
    "\n",
    "    def walkthrough_train_test_split(self, i):\n",
    "        # Return X_train, Y_train, X_test, Y_test, Y_closing_pries_test\n",
    "        return self.X[:self.n+i,:], self.Y[:self.n+i], self.X[self.n+i:,:], self.Y[self.n+i:], self.Y_closing_prices[self.n+i:]\n",
    "\n",
    "    def validate(self):\n",
    "        # Hyperparameter tunning\n",
    "        # chnage this to do all but last 5?\n",
    "        X_train, Y_train, _,_,_ = self.walkthrough_train_test_split(0)         \n",
    "        params = {\n",
    "                'min_child_weight': [1, 5, 10],\n",
    "                'gamma': [0.5, 1, 1.5, 2, 5],\n",
    "                'subsample': [0.6, 0.8, 1.0],\n",
    "                'colsample_bytree': [0.6, 0.8, 1.0],\n",
    "                'max_depth': [3, 4, 5]\n",
    "                }\n",
    "\n",
    "        xgb1 = xgboost.XGBClassifier()\n",
    "        xgb_grid = GridSearchCV(xgb1,\n",
    "                                params,\n",
    "                                cv = TimeSeriesSplit(),\n",
    "                                n_jobs = -1,\n",
    "                                verbose=True)\n",
    "        xgb_grid.fit(X_train,Y_train)\n",
    "        self.best_params = xgb_grid.best_params_\n",
    "    \n",
    "    def train_and_predict_step(self, X_train, Y_train, X_test, Y_test, Y_closing_prices_test):\n",
    "        \n",
    "        model = XGBRegressor(**self.best_params)\n",
    "        model.fit(X_train, Y_train)\n",
    "\n",
    "        BinaryPredicted = model.predict(X_test[0].reshape(-1,X_test.shape[1]))\n",
    "        BinaryActual = Y_test[0]  \n",
    "        ActualStockClosingPrice = Y_closing_prices_test[0]\n",
    "\n",
    "        return BinaryPredicted, BinaryActual, ActualStockClosingPrice\n",
    "    \n",
    "    def money_simulation(self, BinaryPredicted, ActualStockClosingPrice):\n",
    "\n",
    "        if BinaryPredicted==0:\n",
    "            if self.stocks!=0:\n",
    "                # If stocks are predicted to go down then sell\n",
    "                self.money += ActualStockClosingPrice*stocks\n",
    "                self.stocks = 0\n",
    "            else:\n",
    "                pass\n",
    "        else:\n",
    "            # If stocks are predicted to go up then buy\n",
    "            self.stocks += self.money//ActualStockClosingPrice\n",
    "            self.money -= (self.money//ActualStockClosingPrice)*ActualStockClosingPrice\n",
    "\n",
    "    def visualise(self):\n",
    "        \n",
    "        plt.plot(list(pred)*(prediction_window+1),color='red',label='Predictions')\n",
    "        plt.plot([starting_price]+list(Y_closing_prices[max(i,0):max(i,0)+prediction_window]),color='blue',label='Actual')\n",
    "        plt.legend()\n",
    "        plt.show()\n",
    "    \n",
    "    def print_money_gain():\n",
    "        print('f')\n",
    "    \n",
    "    def print_accuracy(self):\n",
    "\n",
    "        preds = list(map(lambda x: 1 if x>0.5 else 0, self.preds))\n",
    "        print(accuracy_score(self.acc,preds))\n",
    "\n",
    "    def simulation_walkthrough(self):\n",
    "\n",
    "        self.starting_money = self.money + self.stocks*self.X[self.n,3]\n",
    "\n",
    "        self.preds = []\n",
    "        self.acc = []\n",
    "        for i in range(0,self.X.shape[0]-self.n,self.prediction_window):\n",
    "\n",
    "            X_train, Y_train, X_test, Y_test, Y_closing_pries_test = self.walkthrough_train_test_split(i)\n",
    "            BinaryPredicted, BinaryActual, ActualStockClosingPrice = self.train_and_predict_step(X_train, Y_train, X_test, Y_test, Y_closing_pries_test)\n",
    "            # classification error:\n",
    "            self.preds.append(BinaryPredicted)\n",
    "            self.acc.append(BinaryActual)\n",
    "\n",
    "            self.money_simulation(BinaryPredicted, ActualStockClosingPrice)\n",
    "\n",
    "        self.ending_money = self.money + self.stocks*self.Y_closing_prices[-1]\n",
    "\n",
    "        print(f'The starting Money was {self.starting_money} and the ending money was {self.ending_money} so the total profit would have been: £{self.ending_money-self.starting_money}')\n",
    "        self.print_accuracy()\n",
    "\n",
    "\n"
   ]
  },
  {
   "cell_type": "code",
   "execution_count": 79,
   "metadata": {},
   "outputs": [
    {
     "name": "stdout",
     "output_type": "stream",
     "text": [
      "Fitting 5 folds for each of 405 candidates, totalling 2025 fits\n"
     ]
    },
    {
     "name": "stderr",
     "output_type": "stream",
     "text": [
      "[Parallel(n_jobs=-1)]: Using backend LokyBackend with 4 concurrent workers.\n",
      "[Parallel(n_jobs=-1)]: Done  42 tasks      | elapsed:   14.0s\n",
      "[Parallel(n_jobs=-1)]: Done 192 tasks      | elapsed:   25.6s\n",
      "[Parallel(n_jobs=-1)]: Done 442 tasks      | elapsed:   43.5s\n",
      "[Parallel(n_jobs=-1)]: Done 792 tasks      | elapsed:  1.3min\n",
      "[Parallel(n_jobs=-1)]: Done 1242 tasks      | elapsed:  3.1min\n",
      "[Parallel(n_jobs=-1)]: Done 1792 tasks      | elapsed:  4.6min\n",
      "[Parallel(n_jobs=-1)]: Done 2025 out of 2025 | elapsed:  5.3min finished\n"
     ]
    }
   ],
   "source": [
    "\n",
    "X, Y, Y_closing_prices = data_cleaning_pipeline(df,steps=5)\n",
    "\n",
    "model = Model_Dev(X,Y,Y_closing_prices)\n"
   ]
  },
  {
   "cell_type": "code",
   "execution_count": 91,
   "metadata": {},
   "outputs": [],
   "source": [
    "model = Model_Dev(X,Y,Y_closing_prices)\n",
    "model.best_params = p"
   ]
  },
  {
   "cell_type": "code",
   "execution_count": 85,
   "metadata": {},
   "outputs": [],
   "source": [
    "p = model.best_params"
   ]
  },
  {
   "cell_type": "code",
   "execution_count": null,
   "metadata": {},
   "outputs": [],
   "source": []
  },
  {
   "cell_type": "code",
   "execution_count": 92,
   "metadata": {},
   "outputs": [
    {
     "name": "stdout",
     "output_type": "stream",
     "text": [
      "The starting Money was 1497.79999 and the ending money was 1399.1499350000001 so the total profit would have been: £-98.65005499999984\n",
      "0.6071428571428571\n"
     ]
    }
   ],
   "source": [
    "model.simulation_walkthrough()"
   ]
  },
  {
   "cell_type": "code",
   "execution_count": 67,
   "metadata": {},
   "outputs": [],
   "source": [
    "preds = model.preds\n",
    "acc = model.acc"
   ]
  },
  {
   "cell_type": "code",
   "execution_count": 75,
   "metadata": {},
   "outputs": [],
   "source": [
    "from sklearn.metrics import mean_squared_error, accuracy_score\n"
   ]
  },
  {
   "cell_type": "code",
   "execution_count": 76,
   "metadata": {},
   "outputs": [],
   "source": [
    "preds = list(map(lambda x: 1 if x>0.5 else 0, preds))"
   ]
  },
  {
   "cell_type": "code",
   "execution_count": 77,
   "metadata": {},
   "outputs": [
    {
     "data": {
      "text/plain": [
       "0.6071428571428571"
      ]
     },
     "execution_count": 77,
     "metadata": {},
     "output_type": "execute_result"
    }
   ],
   "source": [
    "accuracy_score(acc,preds)"
   ]
  }
 ],
 "metadata": {
  "interpreter": {
   "hash": "e98c1cc7ab8ad4b60dfdff1c8dc9276d6ba7a8d55efe2cc433a6dddaa8fe8d3e"
  },
  "kernelspec": {
   "display_name": "Python 3.7.4 64-bit ('base': conda)",
   "language": "python",
   "name": "python3"
  },
  "language_info": {
   "codemirror_mode": {
    "name": "ipython",
    "version": 3
   },
   "file_extension": ".py",
   "mimetype": "text/x-python",
   "name": "python",
   "nbconvert_exporter": "python",
   "pygments_lexer": "ipython3",
   "version": "3.7.4"
  },
  "orig_nbformat": 4
 },
 "nbformat": 4,
 "nbformat_minor": 2
}
