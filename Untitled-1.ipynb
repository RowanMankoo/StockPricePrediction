{
 "cells": [
  {
   "cell_type": "code",
   "execution_count": 11,
   "metadata": {},
   "outputs": [],
   "source": [
    "import data\n",
    "import final\n",
    "import xgboost as xgboost\n"
   ]
  },
  {
   "cell_type": "code",
   "execution_count": 12,
   "metadata": {},
   "outputs": [],
   "source": [
    "import matplotlib.pyplot as plt\n",
    "import numpy as np\n",
    "import pandas as pd\n",
    "import xgboost as xgboost\n",
    "from sklearn.metrics import mean_squared_error, accuracy_score\n",
    "from sklearn.model_selection import GridSearchCV, TimeSeriesSplit\n",
    "from xgboost import XGBRegressor"
   ]
  },
  {
   "cell_type": "code",
   "execution_count": 78,
   "metadata": {},
   "outputs": [
    {
     "name": "stdout",
     "output_type": "stream",
     "text": [
      "https://query1.finance.yahoo.com/v7/finance/download/MSFT?period1=1560380400&period2=1651015549&interval=1d&events=history&includeAdjustedClose=true\n"
     ]
    }
   ],
   "source": [
    "d = data.Data('MSFT',steps=5)"
   ]
  },
  {
   "cell_type": "code",
   "execution_count": 83,
   "metadata": {},
   "outputs": [],
   "source": [
    "a = d.df.columns"
   ]
  },
  {
   "cell_type": "code",
   "execution_count": 82,
   "metadata": {},
   "outputs": [],
   "source": [
    "b = model.model.feature_importances_"
   ]
  },
  {
   "cell_type": "code",
   "execution_count": 85,
   "metadata": {},
   "outputs": [
    {
     "data": {
      "text/plain": [
       "[(0.06409356, 'High'),\n",
       " (0.037568375, 'Open'),\n",
       " (0.037538394, 'Low'),\n",
       " (0.037116364, '4'),\n",
       " (0.037070904, 'Close'),\n",
       " (0.03568415, '11'),\n",
       " (0.033702333, '1'),\n",
       " (0.03346713, '7'),\n",
       " (0.032914355, '21'),\n",
       " (0.032825932, '8'),\n",
       " (0.031541206, '22'),\n",
       " (0.031056035, '20'),\n",
       " (0.029519645, '23'),\n",
       " (0.028065436, '3'),\n",
       " (0.027153011, '9'),\n",
       " (0.026464531, '18'),\n",
       " (0.02603217, '2'),\n",
       " (0.025875092, '26'),\n",
       " (0.025222257, '17'),\n",
       " (0.02511525, '16'),\n",
       " (0.024453321, '13'),\n",
       " (0.024406554, '14'),\n",
       " (0.024194922, '28'),\n",
       " (0.023587622, '10'),\n",
       " (0.0235718, '12'),\n",
       " (0.023511162, '25'),\n",
       " (0.023481924, '30'),\n",
       " (0.023457892, '6'),\n",
       " (0.021495359, '29'),\n",
       " (0.021178974, '27'),\n",
       " (0.018563846, 'Adj Close'),\n",
       " (0.018051034, 'Volume'),\n",
       " (0.017436216, '24'),\n",
       " (0.015653415, '30DayStockPriceSum'),\n",
       " (0.013495952, '15'),\n",
       " (0.013233994, '19'),\n",
       " (0.012199799, '5')]"
      ]
     },
     "execution_count": 85,
     "metadata": {},
     "output_type": "execute_result"
    }
   ],
   "source": [
    "sorted(zip(b,a),reverse=True)"
   ]
  },
  {
   "cell_type": "code",
   "execution_count": 20,
   "metadata": {},
   "outputs": [],
   "source": [
    "X, Y, Y_closing_prices, X_current = d.X_Y_dataset_creation()"
   ]
  },
  {
   "cell_type": "code",
   "execution_count": 74,
   "metadata": {},
   "outputs": [],
   "source": [
    "model = Model_Dev(X, Y, Y_closing_prices, X_current,hyperparams=p)\n"
   ]
  },
  {
   "cell_type": "code",
   "execution_count": 15,
   "metadata": {},
   "outputs": [],
   "source": [
    "p = model.best_params"
   ]
  },
  {
   "cell_type": "code",
   "execution_count": 70,
   "metadata": {},
   "outputs": [
    {
     "name": "stdout",
     "output_type": "stream",
     "text": [
      "The starting Money was 1409.6000649999999 and the ending money was 1382.3098129999998 so the total profit would have been: £-27.29025200000001\n",
      "0.6785714285714286\n"
     ]
    }
   ],
   "source": [
    "model.simulation_walkthrough()"
   ]
  },
  {
   "cell_type": "code",
   "execution_count": 44,
   "metadata": {},
   "outputs": [
    {
     "data": {
      "text/plain": [
       "array([0.7251159], dtype=float32)"
      ]
     },
     "execution_count": 44,
     "metadata": {},
     "output_type": "execute_result"
    }
   ],
   "source": [
    "model.predict()"
   ]
  },
  {
   "cell_type": "code",
   "execution_count": 75,
   "metadata": {},
   "outputs": [
    {
     "data": {
      "text/plain": [
       "array([1])"
      ]
     },
     "execution_count": 75,
     "metadata": {},
     "output_type": "execute_result"
    }
   ],
   "source": [
    "model.predict()"
   ]
  },
  {
   "cell_type": "code",
   "execution_count": 77,
   "metadata": {},
   "outputs": [
    {
     "data": {
      "text/plain": [
       "array([0.03756838, 0.06409356, 0.03753839, 0.0370709 , 0.01856385,\n",
       "       0.01805103, 0.03370233, 0.02603217, 0.02806544, 0.03711636,\n",
       "       0.0121998 , 0.02345789, 0.03346713, 0.03282593, 0.02715301,\n",
       "       0.02358762, 0.03568415, 0.0235718 , 0.02445332, 0.02440655,\n",
       "       0.01349595, 0.02511525, 0.02522226, 0.02646453, 0.01323399,\n",
       "       0.03105604, 0.03291436, 0.03154121, 0.02951965, 0.01743622,\n",
       "       0.02351116, 0.02587509, 0.02117897, 0.02419492, 0.02149536,\n",
       "       0.02348192, 0.01565341], dtype=float32)"
      ]
     },
     "execution_count": 77,
     "metadata": {},
     "output_type": "execute_result"
    }
   ],
   "source": [
    "model.model.feature_importances_"
   ]
  },
  {
   "cell_type": "code",
   "execution_count": 73,
   "metadata": {},
   "outputs": [],
   "source": [
    "\n",
    "class Model_Dev:\n",
    "    def __init__(self, X, Y, Y_closing_prices, X_current, train_test_split=0.8, hyperparams=None):\n",
    "        self.prediction_window = 5 # fix this!\n",
    "        self.X = X\n",
    "        self.Y = Y\n",
    "        self.Y_closing_prices = Y_closing_prices\n",
    "        self.X_current = X_current.reshape(-1,X_current.shape[0])\n",
    "        self.n = int(self.X.shape[0]*train_test_split)\n",
    "\n",
    "        self.stocks = 5\n",
    "        self.money = 0\n",
    "\n",
    "        # If there is no hyper parameter's given we use walkthrough validation to find optimal hyper parameters\n",
    "        if hyperparams:\n",
    "            self.best_params = hyperparams\n",
    "        else:\n",
    "            self.__validate()\n",
    "\n",
    "    def __walkthrough_train_test_split(self, i):\n",
    "        # Return X_train, Y_train, X_test, Y_test, Y_closing_pries_test\n",
    "        return self.X[:self.n+i,:], self.Y[:self.n+i], self.X[self.n+i:,:], self.Y[self.n+i:], self.Y_closing_prices[self.n+i:]\n",
    "\n",
    "    def __validate(self):\n",
    "        # Hyperparameter tunning\n",
    "        # chnage this to do all but last 5?\n",
    "        X_train, Y_train, _,_,_ = self.__walkthrough_train_test_split(0)         \n",
    "        params = {\n",
    "                'min_child_weight': [1, 5, 10],\n",
    "                'gamma': [0.5, 1, 1.5, 2, 5],\n",
    "                'subsample': [0.6, 0.8, 1.0],\n",
    "                'colsample_bytree': [0.6, 0.8, 1.0],\n",
    "                'max_depth': [3, 4, 5]\n",
    "                }\n",
    "\n",
    "        xgb1 = xgboost.XGBClassifier()\n",
    "        xgb_grid = GridSearchCV(xgb1,\n",
    "                                params,\n",
    "                                cv = TimeSeriesSplit(),\n",
    "                                n_jobs = -1,\n",
    "                                verbose=True)\n",
    "        xgb_grid.fit(X_train,Y_train)\n",
    "        self.best_params = xgb_grid.best_params_\n",
    "    \n",
    "    def __train_and_predict_step(self, X_train, Y_train, X_test, Y_test, Y_closing_prices_test):\n",
    "        \n",
    "        model = XGBClassifier(**self.best_params)\n",
    "        model.fit(X_train, Y_train)\n",
    "\n",
    "        BinaryPredicted = model.predict(X_test[0].reshape(-1,X_test.shape[1]))\n",
    "        BinaryActual = Y_test[0]  \n",
    "        ActualStockClosingPrice = Y_closing_prices_test[0]\n",
    "\n",
    "        return BinaryPredicted, BinaryActual, ActualStockClosingPrice\n",
    "    \n",
    "    def money_simulation(self, BinaryPredicted, ActualStockClosingPrice):\n",
    "\n",
    "        if BinaryPredicted==0:\n",
    "            if self.stocks!=0:\n",
    "                # If stocks are predicted to go down then sell\n",
    "                self.money += ActualStockClosingPrice*self.stocks\n",
    "                self.stocks = 0\n",
    "            else:\n",
    "                pass\n",
    "        else:\n",
    "            # If stocks are predicted to go up then buy\n",
    "            self.stocks += self.money//ActualStockClosingPrice\n",
    "            self.money -= (self.money//ActualStockClosingPrice)*ActualStockClosingPrice\n",
    "\n",
    "    def visualise(self):\n",
    "        \n",
    "        plt.plot(list(pred)*(prediction_window+1),color='red',label='Predictions')\n",
    "        plt.plot([starting_price]+list(Y_closing_prices[max(i,0):max(i,0)+prediction_window]),color='blue',label='Actual')\n",
    "        plt.legend()\n",
    "        plt.show()\n",
    "    \n",
    "    def print_money_gain():\n",
    "        print('f')\n",
    "    \n",
    "    def print_accuracy(self):\n",
    "\n",
    "        #preds = list(map(lambda x: 1 if x>0.5 else 0, self.preds))\n",
    "        print(accuracy_score(self.acc,self.preds))\n",
    "\n",
    "    def simulation_walkthrough(self):\n",
    "\n",
    "        self.starting_money = self.money + self.stocks*self.X[self.n,3]\n",
    "\n",
    "        self.preds = []\n",
    "        self.acc = []\n",
    "        for i in range(0,self.X.shape[0]-self.n,self.prediction_window):\n",
    "\n",
    "            X_train, Y_train, X_test, Y_test, Y_closing_pries_test = self.__walkthrough_train_test_split(i)\n",
    "            BinaryPredicted, BinaryActual, ActualStockClosingPrice = self.__train_and_predict_step(X_train, Y_train, X_test, Y_test, Y_closing_pries_test)\n",
    "            # classification error:\n",
    "            self.preds.append(BinaryPredicted)\n",
    "            self.acc.append(BinaryActual)\n",
    "\n",
    "            self.money_simulation(BinaryPredicted, ActualStockClosingPrice)\n",
    "\n",
    "        self.ending_money = self.money + self.stocks*self.Y_closing_prices[-1]\n",
    "\n",
    "        print(f'The starting Money was {self.starting_money} and the ending money was {self.ending_money} so the total profit would have been: £{self.ending_money-self.starting_money}')\n",
    "        self.print_accuracy()\n",
    "\n",
    "    def predict(self):\n",
    "\n",
    "        self.model = XGBClassifier(**self.best_params)\n",
    "        self.model.fit(self.X, self.Y)\n",
    "\n",
    "        pred = self.model.predict(self.X_current)\n",
    "        \n",
    "        return pred"
   ]
  }
 ],
 "metadata": {
  "interpreter": {
   "hash": "e98c1cc7ab8ad4b60dfdff1c8dc9276d6ba7a8d55efe2cc433a6dddaa8fe8d3e"
  },
  "kernelspec": {
   "display_name": "Python 3.7.4 64-bit ('base': conda)",
   "language": "python",
   "name": "python3"
  },
  "language_info": {
   "codemirror_mode": {
    "name": "ipython",
    "version": 3
   },
   "file_extension": ".py",
   "mimetype": "text/x-python",
   "name": "python",
   "nbconvert_exporter": "python",
   "pygments_lexer": "ipython3",
   "version": "3.7.4"
  },
  "orig_nbformat": 4
 },
 "nbformat": 4,
 "nbformat_minor": 2
}
